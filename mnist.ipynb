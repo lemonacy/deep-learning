{
 "cells": [
  {
   "cell_type": "code",
   "execution_count": null,
   "metadata": {},
   "outputs": [],
   "source": [
    "import os\n",
    "import gzip\n",
    "from six.moves import urllib\n",
    "import numpy as np\n",
    "import tensorflow as tf"
   ]
  },
  {
   "cell_type": "code",
   "execution_count": 7,
   "metadata": {},
   "outputs": [],
   "source": [
    "SOURCE_URL = 'https://storage.googleapis.com/cvdf-datasets/mnist/'\n",
    "WORKING_DIRECTORY = 'data'\n",
    "IMAGE_SIZE = 28\n",
    "NUM_CHANNELS = 1\n",
    "PIXEL_DEPTH = 255"
   ]
  },
  {
   "cell_type": "code",
   "execution_count": 9,
   "metadata": {},
   "outputs": [
    {
     "name": "stdout",
     "output_type": "stream",
     "text": [
      "train-images-idx3-ubyte.gz has been downloaded already(9912422 Bytes), skip download.\n",
      "train-labels-idx1-ubyte.gz has been downloaded already(28881 Bytes), skip download.\n",
      "t10k-images-idx3-ubyte.gz has been downloaded already(1648877 Bytes), skip download.\n",
      "t10k-labels-idx1-ubyte.gz has been downloaded already(4542 Bytes), skip download.\n",
      "Extracting data/train-images-idx3-ubyte.gz\n",
      "Extracting data/train-labels-idx1-ubyte.gz\n",
      "Extracting data/t10k-images-idx3-ubyte.gz\n",
      "Extracting data/t10k-labels-idx1-ubyte.gz\n"
     ]
    }
   ],
   "source": [
    "def maybe_download(filename):\n",
    "    if not tf.gfile.Exists(WORKING_DIRECTORY):\n",
    "        tf.gfile.MakeDirs(WORKING_DIRECTORY)\n",
    "    filepath = os.path.join(WORKING_DIRECTORY, filename)\n",
    "    if tf.gfile.Exists(filepath):\n",
    "        with tf.gfile.GFile(filepath) as f:\n",
    "            print('%s has been downloaded already(%i Bytes), skip download.' % (filename, f.size()))\n",
    "    else:\n",
    "        filepath, _ = urllib.request.urlretrieve(SOURCE_URL + filename, filepath)\n",
    "        with tf.gfile.GFile(filepath) as f:\n",
    "            size = f.size()\n",
    "        print('Successfully downloaded %s(%i Bytes)' % (filepath, size))\n",
    "    return filepath\n",
    "\n",
    "def extract_data(filename, num_images):\n",
    "    print('Extracting %s' % filename)\n",
    "    \n",
    "    with gzip.open(filename) as bytestream:\n",
    "        bytestream.read(16)\n",
    "        buf = bytestream.read(IMAGE_SIZE * IMAGE_SIZE * NUM_CHANNELS * num_images)\n",
    "        data = np.frombuffer(buf, dtype=np.uint8).astype(np.float32)\n",
    "        data = (data - PIXEL_DEPTH / 2) / PIXEL_DEPTH\n",
    "        data = data.reshape(num_images, IMAGE_SIZE, IMAGE_SIZE, NUM_CHANNELS)\n",
    "    return data\n",
    "\n",
    "def extract_label(filename, num_labels):\n",
    "    print('Extracting %s' % filename)\n",
    "    with gzip.open(filename) as bs:\n",
    "        bs.read(8)\n",
    "        buf = bs.read(1 * num_labels)\n",
    "        data = np.frombuffer(buf, dtype=np.uint8).astype(np.int64)\n",
    "    return data\n",
    "        \n",
    "def main(_):\n",
    "    train_data_filename = maybe_download('train-images-idx3-ubyte.gz')\n",
    "    train_labels_filename = maybe_download('train-labels-idx1-ubyte.gz')\n",
    "    test_data_filename = maybe_download('t10k-images-idx3-ubyte.gz')\n",
    "    test_labels_filename = maybe_download('t10k-labels-idx1-ubyte.gz')\n",
    "\n",
    "    train_data = extract_data(train_data_filename, 60000)\n",
    "    train_labels = extract_label(train_labels_filename, 60000)\n",
    "    test_data = extract_data(test_data_filename, 10000)\n",
    "    test_labels = extract_label(test_labels_filename, 10000)\n",
    "    \n",
    "if __name__ == '__main__':\n",
    "#     tf.app.run()\n",
    "    main(None)\n"
   ]
  },
  {
   "cell_type": "code",
   "execution_count": null,
   "metadata": {},
   "outputs": [],
   "source": []
  }
 ],
 "metadata": {
  "kernelspec": {
   "display_name": "Python 3",
   "language": "python",
   "name": "python3"
  },
  "language_info": {
   "codemirror_mode": {
    "name": "ipython",
    "version": 3
   },
   "file_extension": ".py",
   "mimetype": "text/x-python",
   "name": "python",
   "nbconvert_exporter": "python",
   "pygments_lexer": "ipython3",
   "version": "3.6.5"
  }
 },
 "nbformat": 4,
 "nbformat_minor": 2
}
