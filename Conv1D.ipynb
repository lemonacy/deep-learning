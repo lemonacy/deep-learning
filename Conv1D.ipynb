{
 "cells": [
  {
   "cell_type": "code",
   "execution_count": 2,
   "metadata": {
    "scrolled": true
   },
   "outputs": [],
   "source": [
    "import tensorflow as tf\n",
    "import numpy as np"
   ]
  },
  {
   "cell_type": "code",
   "execution_count": 3,
   "metadata": {},
   "outputs": [
    {
     "name": "stdout",
     "output_type": "stream",
     "text": [
      "[[[ 1.  2.  3.]\n",
      "  [ 4.  5.  6.]\n",
      "  [ 7.  8.  9.]\n",
      "  [10. 11. 12.]\n",
      "  [13. 14. 15.]\n",
      "  [16. 17. 18.]\n",
      "  [19. 20. 21.]\n",
      "  [22. 23. 24.]\n",
      "  [25. 26. 27.]\n",
      "  [28. 29. 30.]]]\n"
     ]
    }
   ],
   "source": [
    "a = np.array(np.arange(1,31), dtype=np.float32).reshape([1,10,3])\n",
    "print(a)"
   ]
  },
  {
   "cell_type": "markdown",
   "metadata": {},
   "source": [
    "上面的代码构建了1个1x10通道为3的直线数据，3个通道的数值分别为\n",
    "\n",
    "| - | - | - | - | - | - | - | - | - | - |\n",
    "|---|---|---|---|---|---|---|---|---|---|\n",
    "| 1 | 4 | 7 | 10| 13| 16| 19| 22| 25| 28|\n",
    "\n",
    "| - | - | - | - | - | - | - | - | - | - |\n",
    "|---|---|---|---|---|---|---|---|---|---|\n",
    "| 2 | 5 | 8 | 11| 14| 17| 20| 23| 26| 29|\n",
    "\n",
    "| - | - | - | - | - | - | - | - | - | - |\n",
    "|---|---|---|---|---|---|---|---|---|---|\n",
    "| 3 | 6 | 9 | 12| 15| 18| 21| 24| 27| 30|"
   ]
  },
  {
   "cell_type": "code",
   "execution_count": 5,
   "metadata": {},
   "outputs": [
    {
     "name": "stdout",
     "output_type": "stream",
     "text": [
      "[[[ 1.  2.  3.  4.  5.]\n",
      "  [ 6.  7.  8.  9. 10.]\n",
      "  [11. 12. 13. 14. 15.]]\n",
      "\n",
      " [[16. 17. 18. 19. 20.]\n",
      "  [21. 22. 23. 24. 25.]\n",
      "  [26. 27. 28. 29. 30.]]\n",
      "\n",
      " [[31. 32. 33. 34. 35.]\n",
      "  [36. 37. 38. 39. 40.]\n",
      "  [41. 42. 43. 44. 45.]]]\n"
     ]
    }
   ],
   "source": [
    "kernel = np.array(np.arange(1,46), dtype=np.float32).reshape([3,3,5])\n",
    "print(kernel)"
   ]
  },
  {
   "cell_type": "markdown",
   "metadata": {},
   "source": [
    "上面的代码构建了5x3个1x3的矩阵，如下：\n",
    "\n",
    "#### 第一组（对应input的3个channels）\n",
    "\n",
    "|-|-|-|\n",
    "|-|-|-|\n",
    "|1|16|31|\n",
    "\n",
    "|-|-|-|\n",
    "|-|-|-|\n",
    "|6|21|36|\n",
    "\n",
    "|-|-|-|\n",
    "|-|-|-|\n",
    "|11|26|41|\n",
    "\n",
    "#### 第二组（对应input的3个channels）\n",
    "\n",
    "|-|-|-|\n",
    "|-|-|-|\n",
    "|2|17|32|\n",
    "\n",
    "|-|-|-|\n",
    "|-|-|-|\n",
    "|7|22|37|\n",
    "\n",
    "|-|-|-|\n",
    "|-|-|-|\n",
    "|12|27|42|\n",
    "\n",
    "#### 第三组（对应input的3个channels）\n",
    "\n",
    "|-|-|-|\n",
    "|-|-|-|\n",
    "|3|18|33|\n",
    "\n",
    "|-|-|-|\n",
    "|-|-|-|\n",
    "|8|23|38|\n",
    "\n",
    "|-|-|-|\n",
    "|-|-|-|\n",
    "|13|28|43|\n",
    "\n",
    "#### 第四组（对应input的3个channels）\n",
    "\n",
    "|-|-|-|\n",
    "|-|-|-|\n",
    "|4|19|34|\n",
    "\n",
    "|-|-|-|\n",
    "|-|-|-|\n",
    "|9|24|39|\n",
    "\n",
    "|-|-|-|\n",
    "|-|-|-|\n",
    "|14|29|44|\n",
    "\n",
    "#### 第五组（对应input的3个channels）\n",
    "\n",
    "|-|-|-|\n",
    "|-|-|-|\n",
    "|5|20|35|\n",
    "\n",
    "|-|-|-|\n",
    "|-|-|-|\n",
    "|10|25|40|\n",
    "\n",
    "|-|-|-|\n",
    "|-|-|-|\n",
    "|15|30|45|\n",
    "\n",
    "**从上面可以看出，kernel卷积的大小（1x3）和input没有关系，是自己定义的。第2个参数input_channels=3为什么一定要和输入数据的channels一致呢？因为在我们需要从这层每次提取一个元素来组建上面的一组卷积矩阵，output_channels=5表示要准备好多少组这样的卷积矩阵，每组卷积矩阵学习一个特征，5表示希望学习到5种特征**"
   ]
  },
  {
   "cell_type": "code",
   "execution_count": 6,
   "metadata": {},
   "outputs": [],
   "source": [
    "# 第3个参数为stride(不是strides复数)，而且值取整数，表示每次迭代向右移动几格\n",
    "conv1d = tf.nn.conv1d(a, kernel, stride=1, padding='VALID')"
   ]
  },
  {
   "cell_type": "code",
   "execution_count": 7,
   "metadata": {},
   "outputs": [
    {
     "name": "stdout",
     "output_type": "stream",
     "text": [
      "[[[1245. 1290. 1335. 1380. 1425.]\n",
      "  [1812. 1884. 1956. 2028. 2100.]\n",
      "  [2379. 2478. 2577. 2676. 2775.]\n",
      "  [2946. 3072. 3198. 3324. 3450.]\n",
      "  [3513. 3666. 3819. 3972. 4125.]\n",
      "  [4080. 4260. 4440. 4620. 4800.]\n",
      "  [4647. 4854. 5061. 5268. 5475.]\n",
      "  [5214. 5448. 5682. 5916. 6150.]]]\n"
     ]
    }
   ],
   "source": [
    "with tf.Session() as sess:\n",
    "    tf.global_variables_initializer().run()\n",
    "    result = sess.run(conv1d)\n",
    "    print(result)"
   ]
  },
  {
   "cell_type": "markdown",
   "metadata": {},
   "source": [
    "**输出Channel-1(特征1)：**\n",
    "\n",
    "|-|-|-|-|-|-|-|-|\n",
    "|-|-|-|-|-|-|-|-|\n",
    "|1245|1812|2379|2946|3513|4080|4647|5214|\n",
    "\n",
    "说明：conv1d每个channel之间的卷积结果是相加的，则整个计算过程为：点乘、加、加\n",
    "\n",
    "**输出Channel-2(特征2)：**\n",
    "\n",
    "|-|-|-|-|-|-|-|-|\n",
    "|-|-|-|-|-|-|-|-|\n",
    "|1290|1884|2478|3072|3666|4260|4854|5448|\n",
    "\n",
    "**其它输出层(特征提取)的计算过程类似，自己推导就好。**\n"
   ]
  },
  {
   "cell_type": "code",
   "execution_count": null,
   "metadata": {},
   "outputs": [],
   "source": []
  }
 ],
 "metadata": {
  "kernelspec": {
   "display_name": "Python3-TensorFlow",
   "language": "python",
   "name": "python3-tensorflow"
  },
  "language_info": {
   "codemirror_mode": {
    "name": "ipython",
    "version": 3
   },
   "file_extension": ".py",
   "mimetype": "text/x-python",
   "name": "python",
   "nbconvert_exporter": "python",
   "pygments_lexer": "ipython3",
   "version": "3.6.6"
  }
 },
 "nbformat": 4,
 "nbformat_minor": 2
}
